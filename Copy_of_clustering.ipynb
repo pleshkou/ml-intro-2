{
  "nbformat": 4,
  "nbformat_minor": 0,
  "metadata": {
    "kernelspec": {
      "display_name": "Python 3",
      "language": "python",
      "name": "python3"
    },
    "language_info": {
      "codemirror_mode": {
        "name": "ipython",
        "version": 3
      },
      "file_extension": ".py",
      "mimetype": "text/x-python",
      "name": "python",
      "nbconvert_exporter": "python",
      "pygments_lexer": "ipython3",
      "version": "3.6.8"
    },
    "colab": {
      "name": "Copy of clustering.ipynb",
      "provenance": [],
      "collapsed_sections": []
    }
  },
  "cells": [
    {
      "cell_type": "markdown",
      "metadata": {
        "deletable": true,
        "editable": true,
        "id": "9fvMedz11KV0"
      },
      "source": [
        "Каждый пункт, который предлагается выполнить в рамках домашнего задания, имеет объявленную \"цену\" в баллах. Максимально возможная сумма – 10 баллов, а с учётом бонусных пунктов – 12 баллов. Выполнять все пункты не обязательно, можно сделать только часть. В большинстве пунктов ожидается, что вы напишете работающий код на Python; иногда надо будет писать комментарии в свободной форме – например, сравнивать несколько подходов к решению одной задачи. Там, где оставлены пустые клетки под ваши ответы, вы можете по своему усмотрению добавлять ещё клетки.\n",
        "\n",
        "* * *\n",
        "\n",
        "Эта лабораторная работа посвящена кластеризации. Мы будем работать с рукописными изображениями цифр, научимся их кластеризовать двумя разными методами (иерархическая кластеризация и алгоритм $K$-means), оценивать качество разбиения и выбирать оптимальное число кластеров, а также визуализировать промежуточные результаты.\n",
        "\n",
        "# 1. Получение данных\n",
        "\n",
        "Данные, с которыми мы будем работать, доступны в библиотеке scikit-learn (модуль называется `sklearn`) в подмодуле `datasets` через функцию, которая называется `load_digits`. Всего имеется 1797 наблюдений, каждое из них представляет чёрно-белую картинку 8 $\\times$ 8 пикселей. Эти картинки – распознанные рукописные цифры от 0 до 9. Образцов написания каждой цифры дано приблизительно поровну, около 180.\n",
        "\n",
        "Для удобства использования данных каждая картинка \"развёрнута\" в строку, так что NumPy-массив, в котором хранятся данные, имеет размерность 2 и величину 1797 $\\times$ 64 (а не, например, размерность 3 и величину 1797 $\\times$ 8 $\\times$ 8). Интенсивность цвета в каждом пикселе кодируется целым числом от 0 до 16.\n",
        "\n",
        "Кроме наблюдений (картинок), известны соответствующие им значения целевой переменной: какую цифру на самом деле изображает каждая картинка. Мы могли бы сразу сформулировать задачу обучения с учителем и предсказывать цифры по картинкам, но для целей этой лабораторной работы мы будем действовать по-другому: сделаем вид, что нам не известны истинные метки классов (т. е. цифры) и даже количество классов, и попробуем сгруппировать данные таким образом, чтобы качество кластеризации оказалось наилучшим, а затем посмотрим, насколько точно полученные кластеры совпадают с группами изображений одинаковых цифр.\n",
        "\n",
        "**(0.5 балла)** Загрузите данные. Добейтесь, чтобы в переменной `X` оказался массив наблюдений, содержащий 1797 $\\times$ 64 числа, а в переменной `y` – массив истинных меток классов, содержащий 1797 чисел.\n",
        "\n",
        "*Указания:*\n",
        "- Как загрузить данные, объяснено в справке к функции `load_digits`.\n",
        "- Размер массива хранится в атрибуте `shape`."
      ]
    },
    {
      "cell_type": "code",
      "metadata": {
        "collapsed": true,
        "deletable": true,
        "editable": true,
        "id": "Uo0BujYZ1KWC"
      },
      "source": [
        "import numpy as np\n",
        "import pandas as pd\n",
        "from sklearn.model_selection import train_test_split, cross_val_score\n",
        "from sklearn.metrics import accuracy_score, silhouette_score, v_measure_score\n",
        "from sklearn.linear_model import LogisticRegression\n",
        "from sklearn.ensemble import RandomForestClassifier, RandomForestRegressor\n",
        "from sklearn.tree import DecisionTreeRegressor\n",
        "from sklearn.cluster import AgglomerativeClustering, KMeans\n",
        "from sklearn.datasets import load_digits\n",
        "from sklearn.decomposition import TruncatedSVD\n",
        "from sklearn.manifold import TSNE\n",
        "import seaborn as sns\n",
        "import matplotlib.pyplot as plt\n",
        "import matplotlib.cm as cm\n",
        "\n"
      ],
      "execution_count": 1,
      "outputs": []
    },
    {
      "cell_type": "code",
      "metadata": {
        "colab": {
          "base_uri": "https://localhost:8080/"
        },
        "id": "p9IjijrL2vd7",
        "outputId": "3e9886e4-12f4-4643-b880-cca3566de045"
      },
      "source": [
        "digits = load_digits()\n",
        "X, y = digits.data, digits.target\n",
        "print(X.shape)\n",
        "print(y.shape)"
      ],
      "execution_count": 2,
      "outputs": [
        {
          "output_type": "stream",
          "text": [
            "(1797, 64)\n",
            "(1797,)\n"
          ],
          "name": "stdout"
        }
      ]
    },
    {
      "cell_type": "markdown",
      "metadata": {
        "deletable": true,
        "editable": true,
        "id": "FoQKm3_B1KWE"
      },
      "source": [
        "**(1 балл)** Визуализируйте первые десять картинок, расположив их на сетке 3 $\\times$ 4 (в последнем ряду останутся пустые места). Добейтесь, чтобы фон картинок был белым, а изображения цифр – тёмными.\n",
        "\n",
        "*Указания:*\n",
        "- Не забудьте импортировать NumPy и Matplotlib.\n",
        "- Картинки 8 $\\times$ 8 можно либо достать готовыми из объекта, загруженного функцией `load_digits`, либо сделать самостоятельно из строк массива `X`. Во втором случае пользуйтесь методом `reshape`.\n",
        "- Чтобы изображение не было цветным, можно вызвать функцию `plt.gray`, прежде чем начать рисовать.\n",
        "- Располагать картинки на сетке умеет функция `plt.subplot`. Ознакомьтесь со справкой к ней.\n",
        "- По умолчанию число 0 кодирует чёрный цвет, а число 16 – белый цвет. Подумайте, как обратить цвета одной операцией над NumPy-массивом.\n",
        "- Выводить картинку на экран умеет функция `plt.imshow`. Ознакомьтесь со справкой к ней.\n",
        "- Если считаете нужным, можете отключить сглаживание – параметр `interpolation` у функции `plt.imshow`.\n",
        "- Если считаете нужным, можете отключить деления на координатных осях. За это отвечают функции `plt.xticks` и `plt.yticks`."
      ]
    },
    {
      "cell_type": "code",
      "metadata": {
        "collapsed": true,
        "deletable": true,
        "editable": true,
        "id": "91UvWyZZ1KWG",
        "colab": {
          "base_uri": "https://localhost:8080/",
          "height": 361
        },
        "outputId": "50b2ee92-5f9c-4534-e9c6-9e973c956c11"
      },
      "source": [
        "ten_digits = X.reshape((1797, 8, 8))[:10]\n",
        "ten_digits = 16 - ten_digits \n",
        "\n",
        "rows = 3\n",
        "columns = 4\n",
        "\n",
        "fig, axs = plt.subplots(rows, columns, figsize=(10,6))\n",
        "plt.gray()\n",
        "\n",
        "for row in range(rows):\n",
        "  for column in range(columns):\n",
        "    if (row * columns + column) > 9: break\n",
        "    axs[row][column].imshow(ten_digits[row * columns + column], interpolation='antialiased')\n",
        "    plt.setp(axs[row][column].get_xticklabels(), visible=False)\n",
        "    plt.setp(axs[row][column].get_yticklabels(), visible=False)\n",
        "   \n",
        "plt.setp(axs[2][2], visible=False)\n",
        "plt.setp(axs[2][3], visible=False)\n",
        "plt.show();\n"
      ],
      "execution_count": 3,
      "outputs": [
        {
          "output_type": "display_data",
          "data": {
            "image/png": "[encoded data removed]",
            "text/plain": [
              "<Figure size 720x432 with 12 Axes>"
            ]
          },
          "metadata": {
            "tags": [],
            "needs_background": "light"
          }
        }
      ]
    },
    {
      "cell_type": "markdown",
      "metadata": {
        "deletable": true,
        "editable": true,
        "id": "NlS2vw1Z1KWG"
      },
      "source": [
        "# 2. Кластеризация и оценка качества\n",
        "\n",
        "Мы будем использовать два популярных алгоритма: иерархическую кластеризацию и метод $K$ средних ($K$-means clustering). Эти и другие алгоритмы кластеризации доступны в библиотеке scikit-learn в подмодуле `cluster`. Иерархическая кластеризация называется `AgglomerativeClustering`, а метод $K$ средних – `KMeans`.\n",
        "\n",
        "Интерфейс у большинства алгоритмов в scikit-learn простой и единообразный:\n",
        "- Чтобы инициализировать модель, нужно создать экземпляр соответствующего класса со всеми необходимыми параметрами. Например, у кластеризаций единственный обязательный параметр называется `n_clusters`, это количество кластеров, которое мы хотим получить на выходе.\n",
        "- Инициализированную модель можно обучить, вызвав метод `fit`.\n",
        "- С помощью обученной модели можно предсказывать, вызывая метод `predict`.\n",
        "\n",
        "Как видно, этот интерфейс хорош только для задач обучения с учителем, в которых чётко разделены фазы обучения модели и предсказания с её помощью. У кластеризаций зато есть метод `fit_predict`, который разбивает входную выборку на кластеры и сразу же возвращает результаты разбиения.\n",
        "\n",
        "**(0.5 балла)** Используя каждый из двух методов, иерархическую кластеризацию и $K$ средних, получите разбиение массива `X` на 10 кластеров.\n",
        "\n",
        "*Указания:*\n",
        "- Оба раза должен получиться массив из 1797 чисел – номеров кластеров.\n",
        "- `KMeans` делает несколько (по умолчанию 10) запусков со случайными центрами и из полученных разбиений выводит лучшее в терминах среднего внутрикластерного расстояния. Чтобы улучшить качество предсказаний, можно увеличить число запусков, например, до 100. Это параметр `n_init` в конструкторе."
      ]
    },
    {
      "cell_type": "code",
      "metadata": {
        "collapsed": true,
        "deletable": true,
        "editable": true,
        "id": "_twmuiNy1KWI",
        "colab": {
          "base_uri": "https://localhost:8080/"
        },
        "outputId": "bb589f51-66a8-4d8f-c20d-9934315dca38"
      },
      "source": [
        "# AgglomerativeClustering\n",
        "ac = AgglomerativeClustering(n_clusters=10)\n",
        "ac_clusters = ac.fit_predict(X)\n",
        "print(ac_clusters.shape)\n",
        "ac_clusters[:10]"
      ],
      "execution_count": 4,
      "outputs": [
        {
          "output_type": "stream",
          "text": [
            "(1797,)\n"
          ],
          "name": "stdout"
        },
        {
          "output_type": "execute_result",
          "data": {
            "text/plain": [
              "array([7, 9, 4, 1, 5, 1, 6, 3, 4, 1])"
            ]
          },
          "metadata": {
            "tags": []
          },
          "execution_count": 4
        }
      ]
    },
    {
      "cell_type": "code",
      "metadata": {
        "colab": {
          "base_uri": "https://localhost:8080/"
        },
        "id": "AFsUvTfDbY-U",
        "outputId": "2ccc9a02-2ad2-47eb-e5e5-a6109479e088"
      },
      "source": [
        "# KMeans\n",
        "km = KMeans(n_clusters=10, n_init=100, random_state=42)\n",
        "km_clusters = km.fit_predict(X)\n",
        "print(km_clusters.shape)\n",
        "km_clusters[:10]"
      ],
      "execution_count": 5,
      "outputs": [
        {
          "output_type": "stream",
          "text": [
            "(1797,)\n"
          ],
          "name": "stdout"
        },
        {
          "output_type": "execute_result",
          "data": {
            "text/plain": [
              "array([1, 5, 5, 8, 4, 2, 3, 7, 2, 2], dtype=int32)"
            ]
          },
          "metadata": {
            "tags": []
          },
          "execution_count": 5
        }
      ]
    },
    {
      "cell_type": "markdown",
      "metadata": {
        "deletable": true,
        "editable": true,
        "id": "t09X01ii1KWI"
      },
      "source": [
        "**(1 балл)** Визуализируйте центры кластеров, полученных каждым из двух способов. Это опять должны быть картинки на сетке 3 $\\times$ 4 с белым фоном и тёмными контурами. Прокомментируйте: какой из двух алгоритмов даёт центры кластеров, больше похожие на типичные начертания цифр?\n",
        "\n",
        "*Указания:*\n",
        "- Центр кластера – это среднее по всем наблюдениям, входящим в кластер, т. е. по какому-то набору строк из `X`.\n",
        "- Чтобы выбрать наблюдения, входящие в кластер номер `i`, используйте индексацию по булевозначной маске. Саму маску можно получить из массива предсказанных номеров кластеров и числа `i` оператором `==`.\n",
        "- Усреднять NumPy-массив вдоль какой-нибудь из осей умеет функция `np.mean`. Ознакомьтесь со справкой к ней. Нам нужно усреднение по строкам."
      ]
    },
    {
      "cell_type": "code",
      "metadata": {
        "deletable": true,
        "editable": true,
        "id": "Sd8xULwV1KWJ",
        "colab": {
          "base_uri": "https://localhost:8080/",
          "height": 361
        },
        "outputId": "03389442-6039-4b2b-913c-1ddf25a8df53"
      },
      "source": [
        "#AgglomerativeClustering\n",
        "rows = 3\n",
        "columns = 4\n",
        "\n",
        "fig, axs = plt.subplots(rows, columns, figsize=(10,6))\n",
        "plt.gray()\n",
        "\n",
        "res = []\n",
        "\n",
        "for i in range(10):\n",
        "  idx = np.where(ac_clusters == i)\n",
        "  res.append(np.round(np.mean(X[idx], axis=0)))\n",
        "\n",
        "res = 16 - np.array(res).reshape(10, 8, 8)\n",
        "\n",
        "for row in range(rows):\n",
        "  for column in range(columns):\n",
        "    if (row * columns + column) > 9: break\n",
        "    axs[row][column].imshow(res[row * columns + column])\n",
        "    plt.setp(axs[row][column].get_xticklabels(), visible=False)\n",
        "    plt.setp(axs[row][column].get_yticklabels(), visible=False)\n",
        "   \n",
        "plt.setp(axs[2][2], visible=False)\n",
        "plt.setp(axs[2][3], visible=False)\n",
        "plt.show();\n"
      ],
      "execution_count": 6,
      "outputs": [
        {
          "output_type": "display_data",
          "data": {
            "image/png": "[encoded data removed]",
            "text/plain": [
              "<Figure size 720x432 with 12 Axes>"
            ]
          },
          "metadata": {
            "tags": [],
            "needs_background": "light"
          }
        }
      ]
    },
    {
      "cell_type": "code",
      "metadata": {
        "colab": {
          "base_uri": "https://localhost:8080/",
          "height": 361
        },
        "id": "qoEEhCK7qO-q",
        "outputId": "79264e71-7b77-42f7-8e5d-7bf02e9fe353"
      },
      "source": [
        "# KMeans\r\n",
        "rows = 3\r\n",
        "columns = 4\r\n",
        "\r\n",
        "fig, axs = plt.subplots(rows, columns, figsize=(10,6))\r\n",
        "plt.gray()\r\n",
        "\r\n",
        "res = []\r\n",
        "\r\n",
        "for i in range(10):\r\n",
        "  idx = np.where(km_clusters == i)\r\n",
        "  res.append(np.round(np.mean(X[idx], axis=0)))\r\n",
        "\r\n",
        "res = 16 - np.array(res).reshape(10, 8, 8)\r\n",
        "\r\n",
        "for row in range(rows):\r\n",
        "  for column in range(columns):\r\n",
        "    if (row * columns + column) > 9: break\r\n",
        "    axs[row][column].imshow(res[row * columns + column])\r\n",
        "    plt.setp(axs[row][column].get_xticklabels(), visible=False)\r\n",
        "    plt.setp(axs[row][column].get_yticklabels(), visible=False)\r\n",
        "   \r\n",
        "plt.setp(axs[2][2], visible=False)\r\n",
        "plt.setp(axs[2][3], visible=False)\r\n",
        "plt.show();\r\n"
      ],
      "execution_count": 7,
      "outputs": [
        {
          "output_type": "display_data",
          "data": {
            "image/png": "[encoded data removed]",
            "text/plain": [
              "<Figure size 720x432 with 12 Axes>"
            ]
          },
          "metadata": {
            "tags": [],
            "needs_background": "light"
          }
        }
      ]
    },
    {
      "cell_type": "markdown",
      "metadata": {
        "id": "LDt18OThCzDr"
      },
      "source": [
        "## Вывод:\n",
        "### Алгоритм KMeans дает центры кластеров, больше похожие на типичные начертания цифр."
      ]
    },
    {
      "cell_type": "markdown",
      "metadata": {
        "deletable": true,
        "editable": true,
        "id": "DBm_pIlZ1KWJ"
      },
      "source": [
        "В ситуации, когда истинное число кластеров неизвестно, подбирают оптимальное число кластеров. При этом учитывают две величины: внутрикластерное расстояние (чем меньше, тем лучше) и межкластерное расстояние (чем больше, тем лучше). Так как две эти величины не достигают оптимума одновременно, обычно оптимизируют какой-нибудь функционал от них. Один популярный функционал называется \"силуэт\" (silhouette). Вот как он вычисляется.\n",
        "\n",
        "Пусть $X$ – множество наблюдений, $M \\subset X$ – один из кластеров, на которые оно разбито в результате кластеризации, $\\rho$ – метрика на $X$. Выберем какое-нибудь одно наблюдение $x \\in M$. Обозначим $a(x)$ среднее расстояние от $x$ до точек $x'$ из того же кластера:\n",
        "$$\n",
        "a(x) = \\frac{1}{|M| - 1} \\sum_{x' \\in M,\\, x' \\ne x} \\rho(x,\\, x')\n",
        "$$\n",
        "\n",
        "Обозначим $b(x)$ минимум средних расстояний от $x$ до точек $x''$ из какого-нибудь другого кластера $N$:\n",
        "$$\n",
        "b(x) = \\min_{N \\ne M} \\frac{1}{|N|} \\sum_{x'' \\in N} \\rho(x,\\, x'')\n",
        "$$\n",
        "\n",
        "Силуэт – это разность межкластерного и внутрикластерного расстояний, нормированная до отрезка $[-1,\\, 1]$ и усреднённая по всем наблюдениям:\n",
        "$$\n",
        "\\frac{1}{|X|} \\sum_{x \\in X} \\frac{b(x) - a(x)}{\\max(a(x),\\, b(x))}\n",
        "$$\n",
        "\n",
        "В scikit-learn силуэт считается функцией `silhouette_score` из подмодуля `metrics`. На вход нужно передать массив наблюдений и результат кластеризации.\n",
        "\n",
        "**(1.5 балла)** Для числа $K$ от 2 до 20 включительно получите разбиение массива `X` на $K$ кластеров каждым из двух методов. Посчитайте силуэт. Посчитанные значения силуэта сохраните в переменную и визуализируйте в виде графика в координатах: число $K$ – значение силуэта. При каком числе кластеров достигается максимум силуэта?\n",
        "\n",
        "*Указания:*\n",
        "- Не забудьте, что функция `range` не захватывает правый конец диапазона.\n",
        "- Под значения силуэта можно завести два списка: один для иерархической кластеризации, другой для $K$ средних.\n",
        "- Рисовать графики умеет функция `plt.plot`. Ознакомьтесь со справкой к ней.\n",
        "- На одной картинке можно разместить несколько графиков, это просто несколько последовательных вызовов `plt.plot`.\n",
        "- Чтобы добавить легенду (подписи к графикам), можно воспользоваться функцией `plt.legend`. Местоположение легенды контролируется параметром `loc`.\n",
        "- Чтобы подписать координатные оси, можно воспользоваться функциями `plt.xlabel` и `plt.ylabel`."
      ]
    },
    {
      "cell_type": "code",
      "metadata": {
        "collapsed": true,
        "deletable": true,
        "editable": true,
        "id": "PhXENfgA1KWL"
      },
      "source": [
        "\r\n",
        "ac_silhouette = []\r\n",
        "km_silhouette = []\r\n",
        "\r\n",
        "for k in range(2, 21):\r\n",
        "  ac = AgglomerativeClustering(n_clusters=k)\r\n",
        "  ac_clusters = ac.fit_predict(X)\r\n",
        "  ac_silhouette.append(silhouette_score(X, ac_clusters, random_state=42))\r\n",
        "  \r\n",
        "  km = KMeans(n_clusters=k, n_init=100, random_state=42)\r\n",
        "  km_clusters = km.fit_predict(X)\r\n",
        "  km_silhouette.append(silhouette_score(X, km_clusters, random_state=42))\r\n",
        "  "
      ],
      "execution_count": 8,
      "outputs": []
    },
    {
      "cell_type": "code",
      "metadata": {
        "colab": {
          "base_uri": "https://localhost:8080/",
          "height": 388
        },
        "id": "1b3kdCULD1mR",
        "outputId": "04c00d0a-4b27-427d-8ea9-84325c6cc1cc"
      },
      "source": [
        "plt.figure(figsize=[10,6])\n",
        "plt.plot(range(2, 21), ac_silhouette, label='AgglomerativeClustering')\n",
        "plt.plot(range(2, 21), km_silhouette, label='KMeans')\n",
        "plt.xlabel('Number of clusters')\n",
        "plt.ylabel('Silhouette')\n",
        "plt.xticks(np.arange(1, 22, 1))\n",
        "plt.legend()\n",
        "plt.grid()\n"
      ],
      "execution_count": 9,
      "outputs": [
        {
          "output_type": "display_data",
          "data": {
            "image/png": "[encoded data removed]",
            "text/plain": [
              "<Figure size 720x432 with 1 Axes>"
            ]
          },
          "metadata": {
            "tags": [],
            "needs_background": "light"
          }
        }
      ]
    },
    {
      "cell_type": "markdown",
      "metadata": {
        "id": "6RfmLIu7NFBn"
      },
      "source": [
        "## Вывод:\n",
        "### Максимальное значение силуэта достигается при 9 кластерах."
      ]
    },
    {
      "cell_type": "markdown",
      "metadata": {
        "deletable": true,
        "editable": true,
        "id": "nCqE0PaR1KWM"
      },
      "source": [
        "Когда известно \"правильное\" (в каком-нибудь смысле) разбиение на кластеры, результат кластеризации можно сравнить с ним, используя такие меры, как однородность (homogeneity), полнота (completeness) и их среднее гармоническое – $V$-мера. Определения этих величин довольно громоздкие и основаны на понятии [энтропии распределения вероятностей](https://ru.wikipedia.org/wiki/Информационная_энтропия); подробности излагаются в [этой статье](http://aclweb.org/anthology/D/D07/D07-1043.pdf). На практике достаточно знать, что однородность, полнота и $V$-мера заключены между нулём и единицей – чем больше, тем лучше.\n",
        "\n",
        "Так как мы знаем, какую цифру на самом деле изображает каждая картинка (это массив `y`), мы можем использовать однородность, полноту и $V$-меру для оценки качества кластеризации. Функции для вычисления этих величин доступны в scikit-learn, в подмодуле `metrics`, под названиями `homogeneity_score`, `completeness_score`, `v_measure_score`. Как вариант, можно использовать функцию `homogeneity_completeness_v_measure`, которая возвращает сразу тройку чисел.\n",
        "\n",
        "**(1 балл)** Повторите предыдущее задание, используя $V$-меру вместо силуэта. При каком числе кластеров достигается максимум $V$-меры?"
      ]
    },
    {
      "cell_type": "code",
      "metadata": {
        "collapsed": true,
        "deletable": true,
        "editable": true,
        "id": "wANEMFoV1KWN"
      },
      "source": [
        "ac_v_measure = []\n",
        "km_v_measure = []\n",
        "\n",
        "for k in range(2, 21):\n",
        "  ac = AgglomerativeClustering(n_clusters=k)\n",
        "  ac_clusters = ac.fit_predict(X)\n",
        "  ac_v_measure.append(v_measure_score(y, ac_clusters))\n",
        "  \n",
        "  km = KMeans(n_clusters=k, n_init=100, random_state=42)\n",
        "  km_clusters = km.fit_predict(X)\n",
        "  km_v_measure.append(v_measure_score(y, km_clusters))\n"
      ],
      "execution_count": 10,
      "outputs": []
    },
    {
      "cell_type": "code",
      "metadata": {
        "colab": {
          "base_uri": "https://localhost:8080/",
          "height": 388
        },
        "id": "_DmzeR7JW_7X",
        "outputId": "173dd725-c8f0-418c-d6ac-1d2e6ce2fe5f"
      },
      "source": [
        "plt.figure(figsize=[10,6])\n",
        "plt.plot(range(2, 21), ac_v_measure, label='AgglomerativeClustering')\n",
        "plt.plot(range(2, 21), km_v_measure, label='KMeans')\n",
        "plt.xlabel('Number of clusters')\n",
        "plt.ylabel('V-measure')\n",
        "plt.xticks(np.arange(1, 22, 1))\n",
        "plt.legend()\n",
        "plt.grid()"
      ],
      "execution_count": 11,
      "outputs": [
        {
          "output_type": "display_data",
          "data": {
            "image/png": "[encoded data removed]",
            "text/plain": [
              "<Figure size 720x432 with 1 Axes>"
            ]
          },
          "metadata": {
            "tags": [],
            "needs_background": "light"
          }
        }
      ]
    },
    {
      "cell_type": "markdown",
      "metadata": {
        "id": "FENAyi4Fq6PF"
      },
      "source": [
        "## Вывод:\n",
        "### Максимум V-меры зависит от алгоритма кластеризации и достигается при 10 кластерах (AgglomerativeClustering) и 16 кластерах (KMean)."
      ]
    },
    {
      "cell_type": "markdown",
      "metadata": {
        "deletable": true,
        "editable": true,
        "id": "MdJk6cuo1KWQ"
      },
      "source": [
        "# 3. Снижение размерности признакового пространства\n",
        "\n",
        "Иногда, особенно когда признаков много и не все они одинаково информативные, бывает полезно снизить размерность признакового пространства, то есть вместо $d$ исходных признаков перейти к рассмотрению $d' \\ll d$ новых признаков. Данные были представлены матрицей $n$ наблюдений $\\times$ $d$ исходных признаков, а теперь будут представлены матрицей $n$ наблюдений $\\times$ $d'$ новых признаков.\n",
        "\n",
        "Есть два популярных подхода к снижению размерности:\n",
        "- отобрать (select) новые признаки из числа имеющихся;\n",
        "- извлечь (extract) новые признаки, преобразуя старые, например, сделать $d'$ различных линейных комбинаций столбцов исходной матрицы $n \\times d$.\n",
        "\n",
        "Одним из широко используемых методов извлечения признаков является сингулярное разложение матрицы (singular value decomposition, SVD). Этот метод позволяет сконструировать любое число $d' \\le d$ новых признаков таким образом, что они будут, в определённом смысле, максимально информативными. Математические детали сейчас не важны; познакомиться с ними можно, например, [здесь](https://www.coursera.org/learn/mathematics-and-python/lecture/L9bCV/razlozhieniia-matrits-v-proizviedieniie-singhuliarnoie-razlozhieniie)\n",
        "(по-русски) или [здесь](https://www.youtube.com/watch?v=P5mlg91as1c) (по-английски).\n",
        "\n",
        "В scikit-learn есть несколько реализаций сингулярного разложения. Мы будем использовать класс `TruncatedSVD` из подмодуля `decomposition`. В конструктор этого класса достаточно передать один параметр `n_components` – желаемое число новых признаков. Метод `fit_transform` принимает матрицу и возвращает новую матрицу с таким же количеством строк, как прежде, и количеством столбцов, равным числу новых признаков.\n",
        "\n",
        "<u>Замечание:</u> Сингулярное разложение матрицы $M$ обычно пишут в виде $M = U \\Sigma V^{*}$, где $U$, $\\Sigma$ и $V$ – некие матрицы с хорошими свойствами. То, что возвращает алгоритм `TruncatedSVD`, – это сколько-то (сколько мы хотим получить) первых столбцов матрицы $U$.\n",
        "\n",
        "**(1.5 балла)** Выполните сингулярное разложение матрицы `X`, оставляя 2, 5, 10, 20 признаков. В каждом случае выполните иерархическую и $K$-means кластеризацию преобразованных данных (число кластеров примите равным 10). Посчитайте значения силуэта и $V$-меры. Удалось ли при каком-нибудь $d'$ получить силуэт и / или $V$-меру лучше, чем на исходных данных?"
      ]
    },
    {
      "cell_type": "code",
      "metadata": {
        "deletable": true,
        "editable": true,
        "id": "uClxiOHc1KWR",
        "colab": {
          "base_uri": "https://localhost:8080/"
        },
        "outputId": "4869b08c-261a-4fc3-bf65-1731a7f7f445"
      },
      "source": [
        "feature_nums = [2, 5, 10, 20]\n",
        "\n",
        "for f_num in feature_nums:\n",
        "  svd = TruncatedSVD(n_components=f_num, n_iter=7, random_state=42)\n",
        "  X_truncated = svd.fit_transform(X)\n",
        "  \n",
        "  ac = AgglomerativeClustering(n_clusters=10)\n",
        "  ac_clusters = ac.fit_predict(X_truncated)\n",
        "  ss = silhouette_score(X_truncated, ac_clusters, random_state=42)\n",
        "  vms = v_measure_score(y, ac_clusters)\n",
        "  print(f'Silhouette_score - {ss:.3}, v_measure_score - {vms:.3} Feature numbers - {f_num} (AgglomerativeClustering) ')\n",
        "\n",
        "  km = KMeans(n_clusters=10, n_init=100, random_state=42)\n",
        "  km_clusters = km.fit_predict(X_truncated)\n",
        "  ss = silhouette_score(X_truncated, km_clusters, random_state=42)\n",
        "  vms = v_measure_score(y, km_clusters)\n",
        "  print(f'Silhouette_score - {ss:.3}, v_measure_score - {vms:.3} Feature numbers - {f_num} (KMeans) ')\n"
      ],
      "execution_count": 12,
      "outputs": [
        {
          "output_type": "stream",
          "text": [
            "Silhouette_score - 0.281, v_measure_score - 0.334 Feature numbers - 2 (AgglomerativeClustering) \n",
            "Silhouette_score - 0.349, v_measure_score - 0.348 Feature numbers - 2 (KMeans) \n",
            "Silhouette_score - 0.273, v_measure_score - 0.676 Feature numbers - 5 (AgglomerativeClustering) \n",
            "Silhouette_score - 0.312, v_measure_score - 0.634 Feature numbers - 5 (KMeans) \n",
            "Silhouette_score - 0.251, v_measure_score - 0.826 Feature numbers - 10 (AgglomerativeClustering) \n",
            "Silhouette_score - 0.263, v_measure_score - 0.722 Feature numbers - 10 (KMeans) \n",
            "Silhouette_score - 0.196, v_measure_score - 0.817 Feature numbers - 20 (AgglomerativeClustering) \n",
            "Silhouette_score - 0.213, v_measure_score - 0.741 Feature numbers - 20 (KMeans) \n"
          ],
          "name": "stdout"
        }
      ]
    },
    {
      "cell_type": "markdown",
      "metadata": {
        "id": "lnKK5ZD82L53"
      },
      "source": [
        "## Вывод:\n",
        "### При снижении признакового пространстава до 2 удалось получить значительное увеличение силуэта методом иерархической кластеризации и методом К-средних. V-мера же не показала улучшения.\n"
      ]
    },
    {
      "cell_type": "markdown",
      "metadata": {
        "deletable": true,
        "editable": true,
        "id": "ys6eHoE51KWR"
      },
      "source": [
        "Другая популярная техника снижения размерности, которая особенно хорошо подходит для работы с картинками, – это алгоритм t-distributed stochastic neighbor embeddings, сокращённо tSNE. В отличие от сингулярного разложения, это преобразование нелинейное. Его основная идея – отобразить точки из пространства размерности $d$ в пространство размерности 2 или 3 (обычно 2, то есть на плоскость) таким образом, чтобы как можно точнее сохранить расстояния. Математические детали есть, например, [здесь](https://en.wikipedia.org/wiki/T-distributed_stochastic_neighbor_embedding), но они нетривиальны.\n",
        "\n",
        "В библиотеке scikit-learn реализацией tSNE является класс `TSNE` в подмодуле `manifold`. В конструктор можно передать параметр `n_components`, а можно и не передавать: по умолчанию он равен 2. Метод `fit_transform` работает аналогично тому, как и у `TruncatedSVD`.\n",
        "\n",
        "<u>Замечание:</u> В последние годы вместо tSNE на практике часто используется [UMAP](https://github.com/lmcinnes/umap), более быстрый алгоритм с похожими свойствами. В этой лабораторной работе не предлагается использовать UMAP, так как это потребовало бы установить ещё одну зависимость -- библиотеку `umap-learn`. Желающие могут проделать задания на tSNE с использованием UMAP; в этом случае обратите внимание на параметры `n_neighbors` и `min_dist`, которыми определяется вид проекции.\n",
        "\n",
        "**(0.5 балла)** Выполните tSNE-преобразование матрицы `X`, оставив 2 признака. Визуализируйте данные, преобразованные таким образом, в виде точечной диаграммы: первый признак вдоль горизонтальной оси, второй признак вдоль вертикальной оси. Подсветите разными цветами группы точек, соответствующих разным цифрам.\n",
        "\n",
        "*Указания:*\n",
        "- Точечную диаграмму умеет рисовать функция `plt.scatter`. Ознакомьтесь со справкой к ней.\n",
        "- За цвета точек отвечает параметр `c` у функции `plt.scatter`. Передать в него надо истинные метки классов."
      ]
    },
    {
      "cell_type": "code",
      "metadata": {
        "collapsed": true,
        "deletable": true,
        "editable": true,
        "id": "i-benVax1KWR"
      },
      "source": [
        "tsne = TSNE(random_state=42).fit_transform(X)"
      ],
      "execution_count": 13,
      "outputs": []
    },
    {
      "cell_type": "code",
      "metadata": {
        "colab": {
          "base_uri": "https://localhost:8080/",
          "height": 374
        },
        "id": "3Q_sqOLjHTVU",
        "outputId": "16b62f6f-c068-4cc4-9153-92b6d930d6c6"
      },
      "source": [
        "plt.figure(figsize=[8, 6])\n",
        "plt.set_cmap('jet')\n",
        "plt.scatter(tsne[:, 0], tsne[:, 1], c = y)\n",
        "plt.show();"
      ],
      "execution_count": 14,
      "outputs": [
        {
          "output_type": "display_data",
          "data": {
            "image/png": "[encoded data removed]",
            "text/plain": [
              "<Figure size 576x432 with 1 Axes>"
            ]
          },
          "metadata": {
            "tags": [],
            "needs_background": "light"
          }
        }
      ]
    },
    {
      "cell_type": "markdown",
      "metadata": {
        "deletable": true,
        "editable": true,
        "id": "aDInHUu01KWS"
      },
      "source": [
        "**(1 балл)** Для tSNE-преобразованных данных с 2 признаками выполните иерархическую и $K$-means кластеризацию (число кластеров примите равным 10). Посчитайте значения силуэта и $V$-меры. Удалось ли получить силуэт и / или $V$-меру лучше, чем на исходных данных?"
      ]
    },
    {
      "cell_type": "code",
      "metadata": {
        "collapsed": true,
        "deletable": true,
        "editable": true,
        "id": "313qUcQ_1KWS",
        "colab": {
          "base_uri": "https://localhost:8080/"
        },
        "outputId": "0826c923-e2ed-47aa-b0ca-01402d7ea4ae"
      },
      "source": [
        "# AgglomerativeClustering\n",
        "ac = AgglomerativeClustering(n_clusters=10)\n",
        "ac_clusters = ac.fit_predict(tsne)\n",
        "ss = silhouette_score(tsne, ac_clusters, random_state=42)\n",
        "vms = v_measure_score(y, ac_clusters)\n",
        "print(f'Silhouette_score - {ss:.3}, v_measure_score - {vms:.3}')"
      ],
      "execution_count": 15,
      "outputs": [
        {
          "output_type": "stream",
          "text": [
            "Silhouette_score - 0.639, v_measure_score - 0.91\n"
          ],
          "name": "stdout"
        }
      ]
    },
    {
      "cell_type": "code",
      "metadata": {
        "colab": {
          "base_uri": "https://localhost:8080/"
        },
        "id": "gyQe7X2BPfNI",
        "outputId": "90149595-3e2b-40d5-d339-18cc82f01332"
      },
      "source": [
        "# KMeans\n",
        "km = KMeans(n_clusters=10, n_init=100, random_state=42)\n",
        "km_clusters = km.fit_predict(tsne)\n",
        "ss = silhouette_score(tsne, km_clusters, random_state=42)\n",
        "vms = v_measure_score(y, km_clusters)\n",
        "print(f'Silhouette_score - {ss:.3}, v_measure_score - {vms:.3}')"
      ],
      "execution_count": 16,
      "outputs": [
        {
          "output_type": "stream",
          "text": [
            "Silhouette_score - 0.64, v_measure_score - 0.91\n"
          ],
          "name": "stdout"
        }
      ]
    },
    {
      "cell_type": "markdown",
      "metadata": {
        "id": "CGpbgdDPQG9N"
      },
      "source": [
        "## Вывод:\n",
        "### при tSNE-преобразовании с 2 признаками удалось получить улучшение силуэта и V-меры по сравнению с исходными данными."
      ]
    },
    {
      "cell_type": "markdown",
      "metadata": {
        "deletable": true,
        "editable": true,
        "id": "A5-5yqby1KWY"
      },
      "source": [
        "**(0.5 балла)** Для самого лучшего разбиения, которое вам удалось получить (на ваше усмотрение, лучшего в терминах силуэта или $V$-меры), опять визуализируйте картинками центры кластеров. Удалось ли добиться, чтобы каждый кластер соответствовал какой-нибудь одной цифре?"
      ]
    },
    {
      "cell_type": "code",
      "metadata": {
        "collapsed": true,
        "deletable": true,
        "editable": true,
        "id": "HfKejBXG1KWZ",
        "colab": {
          "base_uri": "https://localhost:8080/",
          "height": 361
        },
        "outputId": "47036065-b5e8-4453-bba0-5d897831afdd"
      },
      "source": [
        "#AgglomerativeClustering with tSNE\n",
        "ac = AgglomerativeClustering(n_clusters=10)\n",
        "ac_clusters = ac.fit_predict(tsne)\n",
        "\n",
        "rows = 3\n",
        "columns = 4\n",
        "\n",
        "fig, axs = plt.subplots(rows, columns, figsize=(10,6))\n",
        "plt.gray()\n",
        "\n",
        "res = []\n",
        "\n",
        "for i in range(10):\n",
        "  idx = np.where(ac_clusters == i)\n",
        "  res.append(np.round(np.mean(X[idx], axis=0)))\n",
        "\n",
        "res = 16 - np.array(res).reshape(10, 8, 8)\n",
        "\n",
        "for row in range(rows):\n",
        "  for column in range(columns):\n",
        "    if (row * columns + column) > 9: break\n",
        "    axs[row][column].imshow(res[row * columns + column])\n",
        "    plt.setp(axs[row][column].get_xticklabels(), visible=False)\n",
        "    plt.setp(axs[row][column].get_yticklabels(), visible=False)\n",
        "   \n",
        "plt.setp(axs[2][2], visible=False)\n",
        "plt.setp(axs[2][3], visible=False)\n",
        "plt.show();"
      ],
      "execution_count": 17,
      "outputs": [
        {
          "output_type": "display_data",
          "data": {
            "image/png": "[encoded data removed]",
            "text/plain": [
              "<Figure size 720x432 with 12 Axes>"
            ]
          },
          "metadata": {
            "tags": [],
            "needs_background": "light"
          }
        }
      ]
    },
    {
      "cell_type": "code",
      "metadata": {
        "colab": {
          "base_uri": "https://localhost:8080/",
          "height": 361
        },
        "id": "uaFpiRwHb10_",
        "outputId": "ec4eed7c-42b0-46bc-a77f-d039f646c4fd"
      },
      "source": [
        "#KMeans with tSNE\n",
        "km = KMeans(n_clusters=10, n_init=100, random_state=42)\n",
        "km_clusters = km.fit_predict(tsne)\n",
        "\n",
        "rows = 3\n",
        "columns = 4\n",
        "\n",
        "fig, axs = plt.subplots(rows, columns, figsize=(10,6))\n",
        "plt.gray()\n",
        "\n",
        "res = []\n",
        "\n",
        "for i in range(10):\n",
        "  idx = np.where(km_clusters == i)\n",
        "  res.append(np.round(np.mean(X[idx], axis=0)))\n",
        "\n",
        "res = 16 - np.array(res).reshape(10, 8, 8)\n",
        "\n",
        "for row in range(rows):\n",
        "  for column in range(columns):\n",
        "    if (row * columns + column) > 9: break\n",
        "    axs[row][column].imshow(res[row * columns + column])\n",
        "    plt.setp(axs[row][column].get_xticklabels(), visible=False)\n",
        "    plt.setp(axs[row][column].get_yticklabels(), visible=False)\n",
        "   \n",
        "plt.setp(axs[2][2], visible=False)\n",
        "plt.setp(axs[2][3], visible=False)\n",
        "plt.show();"
      ],
      "execution_count": 18,
      "outputs": [
        {
          "output_type": "display_data",
          "data": {
            "image/png": "[encoded data removed]",
            "text/plain": [
              "<Figure size 720x432 with 12 Axes>"
            ]
          },
          "metadata": {
            "tags": [],
            "needs_background": "light"
          }
        }
      ]
    },
    {
      "cell_type": "markdown",
      "metadata": {
        "id": "dgc6130aY6ob"
      },
      "source": [
        "## Вывод:\n",
        "### Используя уменьшение размерности исходного датасета с помощью tSNE-преобразования удалось получить хорошее разбиение, при котором каждому кластеру соответствует одна цифра. \n"
      ]
    },
    {
      "cell_type": "markdown",
      "metadata": {
        "deletable": true,
        "editable": true,
        "id": "-OGuVSn81KWZ"
      },
      "source": [
        "# 4. Итоги, бонус\n",
        "\n",
        "**(1 балл)** Напишите в свободной форме, какие выводы вы сделали из выполненной работы. Ответьте, как минимум, на следующие два вопроса:\n",
        "- Какой из двух методов даёт более осмысленные кластеры – иерархическая кластеризация или алгоритм $K$ средних? Зависит ли это от настроек каждого алгоритма? От критериев оценивания качества?\n",
        "- Удаётся ли улучшить качество кластеризации, снижая размерность признакового пространства?"
      ]
    },
    {
      "cell_type": "markdown",
      "metadata": {
        "id": "r1cK8SI8Z8uT"
      },
      "source": [
        "## Выводы из работы:\n",
        "\n",
        "\n",
        "*   ### Более осмысленные кластеры дает метод иерархической кластеризации.\n",
        "*   ### Полученный результат слабо зависит от настроек алгоритма и критериев оценивания качества.\n",
        "*   ### Снижая размерность признакового пространства удалось существенно улучшить качество кластеризации.\n",
        "\n",
        "\n",
        "\n",
        "\n"
      ]
    },
    {
      "cell_type": "markdown",
      "metadata": {
        "deletable": true,
        "editable": true,
        "id": "-VgWJKhT1KWa"
      },
      "source": [
        "**(Бонусные 2 балла)** Скачайте датасет [MNIST Handwritten Digits](http://yann.lecun.com/exdb/mnist). Как сделать это с помощью scikit-learn, написано [здесь](http://scikit-learn.org/stable/datasets/index.html#downloading-datasets-from-the-mldata-org-repository). MNIST Handwritten Digits – это 70 тысяч распознанных рукописных изображений цифр, каждое размером 28 $\\times$ 28 пикселей. Попробуйте прокластеризовать этот датасет и добиться как можно лучших значений силуэта и $V$-меры."
      ]
    },
    {
      "cell_type": "code",
      "metadata": {
        "collapsed": true,
        "deletable": true,
        "editable": true,
        "id": "GkLHupzY1KWa"
      },
      "source": [
        "import warnings\n",
        "from sklearn.datasets import fetch_openml\n",
        "from sklearn.exceptions import ConvergenceWarning\n",
        "import umap\n",
        "\n",
        "X, y = fetch_openml('mnist_784', version=1, return_X_y=True)"
      ],
      "execution_count": 19,
      "outputs": []
    },
    {
      "cell_type": "code",
      "metadata": {
        "id": "_bNuxNyktJT6"
      },
      "source": [
        "# Попытка применить иерархическую кластеризацию не прошла: не хватило оперативной памяти.\n",
        "# AgglomerativeClustering\n",
        "# ac = AgglomerativeClustering(n_clusters=10)\n",
        "# ac_clusters = ac.fit_predict(X)"
      ],
      "execution_count": 20,
      "outputs": []
    },
    {
      "cell_type": "code",
      "metadata": {
        "id": "A8k6K6ux68ZO"
      },
      "source": [
        "# Пробуем KMeans - зависает\n",
        "# km = KMeans(n_clusters=10, n_init=100, random_state=42)\n",
        "# km_clusters = km.fit_predict(X)"
      ],
      "execution_count": 21,
      "outputs": []
    },
    {
      "cell_type": "code",
      "metadata": {
        "id": "SIzdEarTtKR3"
      },
      "source": [
        " # Уменьшаем признаковое пространство с помощью tSNE до 2 - зависает\n",
        "#  tsne = TSNE(random_state=42).fit_transform(X)"
      ],
      "execution_count": 22,
      "outputs": []
    },
    {
      "cell_type": "code",
      "metadata": {
        "id": "9NnyvP6r14Xl"
      },
      "source": [
        "# Уменьшаем признаковое пространство с помощью UMAP\n",
        "embedding = umap.UMAP(n_neighbors=10,\n",
        "                      min_dist=0.1,\n",
        "                      metric='correlation').fit_transform(X)"
      ],
      "execution_count": 23,
      "outputs": []
    },
    {
      "cell_type": "code",
      "metadata": {
        "id": "eQQ_c_WH3nWD"
      },
      "source": [
        "# ac = AgglomerativeClustering(n_clusters=10) - restart runtime\n",
        "# ac_clusters = ac.fit_predict(embedding)"
      ],
      "execution_count": 24,
      "outputs": []
    },
    {
      "cell_type": "code",
      "metadata": {
        "id": "3HHyTpjT3qN1"
      },
      "source": [
        "km = KMeans(n_clusters=10, n_init=100, random_state=42)\n",
        "km_clusters = km.fit_predict(embedding)"
      ],
      "execution_count": 25,
      "outputs": []
    },
    {
      "cell_type": "code",
      "metadata": {
        "colab": {
          "base_uri": "https://localhost:8080/"
        },
        "id": "jhl4m__V4z0b",
        "outputId": "ad621305-4248-4f3c-f83c-8ef08bf83d90"
      },
      "source": [
        "ss = silhouette_score(embedding, km_clusters, random_state=42)\n",
        "vms = v_measure_score(y, km_clusters)\n",
        "print(f'Silhouette_score - {ss:.3}, v_measure_score - {vms:.3}')"
      ],
      "execution_count": 26,
      "outputs": [
        {
          "output_type": "stream",
          "text": [
            "Silhouette_score - 0.652, v_measure_score - 0.886\n"
          ],
          "name": "stdout"
        }
      ]
    },
    {
      "cell_type": "markdown",
      "metadata": {
        "id": "uOjmr8EB-Om5"
      },
      "source": [
        "## Выводы:\n",
        "### Из-за большого размера датасета некоторые алгоритмы требуют значительного объема ОЗУ и времени выполнения. Алгоритм UMAP для снижения размерности показал хорошую скорость и нетребовательность к памяти.\n",
        "### Дальнейшее применение к датасету метода кластеризации KMeans показало довольно хорошее разбиение с высоким значением силуэта и V-score."
      ]
    },
    {
      "cell_type": "code",
      "metadata": {
        "id": "orD4EiSU41jQ"
      },
      "source": [
        ""
      ],
      "execution_count": 26,
      "outputs": []
    }
  ]
}